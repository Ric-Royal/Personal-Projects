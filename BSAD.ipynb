{
  "nbformat": 4,
  "nbformat_minor": 0,
  "metadata": {
    "colab": {
      "name": "BSAD.ipynb",
      "provenance": [],
      "authorship_tag": "ABX9TyM+L3V6ElR+643zPPNqLVqo",
      "include_colab_link": true
    },
    "kernelspec": {
      "name": "python3",
      "display_name": "Python 3"
    },
    "language_info": {
      "name": "python"
    }
  },
  "cells": [
    {
      "cell_type": "markdown",
      "metadata": {
        "id": "view-in-github",
        "colab_type": "text"
      },
      "source": [
        "<a href=\"https://colab.research.google.com/github/Ric-Royal/Personal-Projects/blob/master/BSAD.ipynb\" target=\"_parent\"><img src=\"https://colab.research.google.com/assets/colab-badge.svg\" alt=\"Open In Colab\"/></a>"
      ]
    },
    {
      "cell_type": "markdown",
      "metadata": {
        "id": "kLG2VTrnTvYL"
      },
      "source": [
        "## 1. Defining the Question"
      ]
    },
    {
      "cell_type": "markdown",
      "metadata": {
        "id": "XecOwPNorl2W"
      },
      "source": [
        "### a) Specifying the Question"
      ]
    },
    {
      "cell_type": "markdown",
      "metadata": {
        "id": "8l3-hBO6bODP"
      },
      "source": [
        " \n",
        "1. Identifying the anomalies in bank statement transactions."
      ]
    },
    {
      "cell_type": "markdown",
      "metadata": {
        "id": "J4wfHZwQrs-t"
      },
      "source": [
        "### b) Defining the Metric for Success"
      ]
    },
    {
      "cell_type": "markdown",
      "metadata": {
        "id": "33zqiSdVm9Bl"
      },
      "source": [
        "Model should have a minimum of 70% accuracy\n",
        "The model precision for the train dataset should be\n",
        "\n",
        "1.   presence > 0.70\n",
        "2.   absence > 0.70\n",
        "\n"
      ]
    },
    {
      "cell_type": "markdown",
      "metadata": {
        "id": "a9BPYqunry97"
      },
      "source": [
        "### c) Understanding the context "
      ]
    },
    {
      "cell_type": "markdown",
      "metadata": {
        "id": "RfcF6eZCnFpC"
      },
      "source": [
        "Bank statements give a holistic view of an account owner's complete transaction history. It is therefore a legit source of financial information belonging to an individual or a company. Across different banks, the account statements have varying formats causing a difficulty in analysis, an increase in time consumption during analysis and a high cost of labour to go through the various statements. Recently, the government has increased its fight against Money Laundering, Terrorism Financing and Tax Evasion. There is a need for the creation of a model that can detect anomalies in transactions in order to assist security agencies to identify individuals or companies aiding and abetting in these crimes.\n",
        "\n",
        "**The objective is to create a model that can identify anomalies in bank transactions.**\n"
      ]
    },
    {
      "cell_type": "markdown",
      "metadata": {
        "id": "7KMRBJ7zr9HD"
      },
      "source": [
        "### d) Recording the Experimental Design"
      ]
    },
    {
      "cell_type": "markdown",
      "metadata": {
        "id": "k_0U6uDgna8t"
      },
      "source": [
        "CRISP-DM methodology was used."
      ]
    },
    {
      "cell_type": "markdown",
      "metadata": {
        "id": "iUNbvIvnT7ep"
      },
      "source": [
        "## 2. Reading the Data"
      ]
    },
    {
      "cell_type": "code",
      "metadata": {
        "id": "JY6Ny3JMPkIx"
      },
      "source": [
        "import pandas as pd\n",
        "import numpy as np\n",
        "from datetime import datetime, timedelta\n",
        "import math\n",
        "\n",
        "import matplotlib.pyplot as plt\n",
        "import matplotlib.mlab as mlab\n",
        "import matplotlib\n",
        "plt.style.use('ggplot')\n",
        "from matplotlib.pyplot import figure\n",
        "\n",
        "%matplotlib inline\n",
        "matplotlib.rcParams['figure.figsize'] = (14,12)\n",
        "\n",
        "import seaborn as sns\n",
        "\n",
        "pd.options.mode.chained_assignment = None"
      ],
      "execution_count": null,
      "outputs": []
    },
    {
      "cell_type": "code",
      "metadata": {
        "colab": {
          "base_uri": "https://localhost:8080/"
        },
        "id": "WpM2iKS-P6y4",
        "outputId": "a9ee8718-6e9b-4eea-e1ad-6e281442d6a9"
      },
      "source": [
        "trans = pd.read_csv('/content/trans.csv', delimiter=';')"
      ],
      "execution_count": null,
      "outputs": [
        {
          "output_type": "stream",
          "text": [
            "/usr/local/lib/python3.7/dist-packages/IPython/core/interactiveshell.py:2718: DtypeWarning: Columns (8) have mixed types.Specify dtype option on import or set low_memory=False.\n",
            "  interactivity=interactivity, compiler=compiler, result=result)\n"
          ],
          "name": "stderr"
        }
      ]
    },
    {
      "cell_type": "code",
      "metadata": {
        "colab": {
          "base_uri": "https://localhost:8080/",
          "height": 204
        },
        "id": "5qXTOUKCSx2l",
        "outputId": "d4237301-6646-4a28-b688-b22523be7874"
      },
      "source": [
        "trans.head()"
      ],
      "execution_count": null,
      "outputs": [
        {
          "output_type": "execute_result",
          "data": {
            "text/html": [
              "<div>\n",
              "<style scoped>\n",
              "    .dataframe tbody tr th:only-of-type {\n",
              "        vertical-align: middle;\n",
              "    }\n",
              "\n",
              "    .dataframe tbody tr th {\n",
              "        vertical-align: top;\n",
              "    }\n",
              "\n",
              "    .dataframe thead th {\n",
              "        text-align: right;\n",
              "    }\n",
              "</style>\n",
              "<table border=\"1\" class=\"dataframe\">\n",
              "  <thead>\n",
              "    <tr style=\"text-align: right;\">\n",
              "      <th></th>\n",
              "      <th>trans_id</th>\n",
              "      <th>account_id</th>\n",
              "      <th>date</th>\n",
              "      <th>type</th>\n",
              "      <th>operation</th>\n",
              "      <th>amount</th>\n",
              "      <th>balance</th>\n",
              "      <th>k_symbol</th>\n",
              "      <th>bank</th>\n",
              "      <th>account</th>\n",
              "    </tr>\n",
              "  </thead>\n",
              "  <tbody>\n",
              "    <tr>\n",
              "      <th>0</th>\n",
              "      <td>695247</td>\n",
              "      <td>2378</td>\n",
              "      <td>930101</td>\n",
              "      <td>PRIJEM</td>\n",
              "      <td>VKLAD</td>\n",
              "      <td>700.0</td>\n",
              "      <td>700.0</td>\n",
              "      <td>NaN</td>\n",
              "      <td>NaN</td>\n",
              "      <td>NaN</td>\n",
              "    </tr>\n",
              "    <tr>\n",
              "      <th>1</th>\n",
              "      <td>171812</td>\n",
              "      <td>576</td>\n",
              "      <td>930101</td>\n",
              "      <td>PRIJEM</td>\n",
              "      <td>VKLAD</td>\n",
              "      <td>900.0</td>\n",
              "      <td>900.0</td>\n",
              "      <td>NaN</td>\n",
              "      <td>NaN</td>\n",
              "      <td>NaN</td>\n",
              "    </tr>\n",
              "    <tr>\n",
              "      <th>2</th>\n",
              "      <td>207264</td>\n",
              "      <td>704</td>\n",
              "      <td>930101</td>\n",
              "      <td>PRIJEM</td>\n",
              "      <td>VKLAD</td>\n",
              "      <td>1000.0</td>\n",
              "      <td>1000.0</td>\n",
              "      <td>NaN</td>\n",
              "      <td>NaN</td>\n",
              "      <td>NaN</td>\n",
              "    </tr>\n",
              "    <tr>\n",
              "      <th>3</th>\n",
              "      <td>1117247</td>\n",
              "      <td>3818</td>\n",
              "      <td>930101</td>\n",
              "      <td>PRIJEM</td>\n",
              "      <td>VKLAD</td>\n",
              "      <td>600.0</td>\n",
              "      <td>600.0</td>\n",
              "      <td>NaN</td>\n",
              "      <td>NaN</td>\n",
              "      <td>NaN</td>\n",
              "    </tr>\n",
              "    <tr>\n",
              "      <th>4</th>\n",
              "      <td>579373</td>\n",
              "      <td>1972</td>\n",
              "      <td>930102</td>\n",
              "      <td>PRIJEM</td>\n",
              "      <td>VKLAD</td>\n",
              "      <td>400.0</td>\n",
              "      <td>400.0</td>\n",
              "      <td>NaN</td>\n",
              "      <td>NaN</td>\n",
              "      <td>NaN</td>\n",
              "    </tr>\n",
              "  </tbody>\n",
              "</table>\n",
              "</div>"
            ],
            "text/plain": [
              "   trans_id  account_id    date    type  ... balance  k_symbol  bank account\n",
              "0    695247        2378  930101  PRIJEM  ...   700.0       NaN   NaN     NaN\n",
              "1    171812         576  930101  PRIJEM  ...   900.0       NaN   NaN     NaN\n",
              "2    207264         704  930101  PRIJEM  ...  1000.0       NaN   NaN     NaN\n",
              "3   1117247        3818  930101  PRIJEM  ...   600.0       NaN   NaN     NaN\n",
              "4    579373        1972  930102  PRIJEM  ...   400.0       NaN   NaN     NaN\n",
              "\n",
              "[5 rows x 10 columns]"
            ]
          },
          "metadata": {
            "tags": []
          },
          "execution_count": 3
        }
      ]
    },
    {
      "cell_type": "markdown",
      "metadata": {
        "id": "YhWEqw5NUEbq"
      },
      "source": [
        "## 3. Checking the Data"
      ]
    },
    {
      "cell_type": "code",
      "metadata": {
        "colab": {
          "base_uri": "https://localhost:8080/",
          "height": 204
        },
        "id": "sDqd0rbyURjS",
        "outputId": "429f2ee9-8955-409b-d7fa-f89babb4b691"
      },
      "source": [
        "trans.head()"
      ],
      "execution_count": null,
      "outputs": [
        {
          "output_type": "execute_result",
          "data": {
            "text/html": [
              "<div>\n",
              "<style scoped>\n",
              "    .dataframe tbody tr th:only-of-type {\n",
              "        vertical-align: middle;\n",
              "    }\n",
              "\n",
              "    .dataframe tbody tr th {\n",
              "        vertical-align: top;\n",
              "    }\n",
              "\n",
              "    .dataframe thead th {\n",
              "        text-align: right;\n",
              "    }\n",
              "</style>\n",
              "<table border=\"1\" class=\"dataframe\">\n",
              "  <thead>\n",
              "    <tr style=\"text-align: right;\">\n",
              "      <th></th>\n",
              "      <th>trans_id</th>\n",
              "      <th>account_id</th>\n",
              "      <th>date</th>\n",
              "      <th>type</th>\n",
              "      <th>operation</th>\n",
              "      <th>amount</th>\n",
              "      <th>balance</th>\n",
              "      <th>k_symbol</th>\n",
              "      <th>bank</th>\n",
              "      <th>account</th>\n",
              "    </tr>\n",
              "  </thead>\n",
              "  <tbody>\n",
              "    <tr>\n",
              "      <th>0</th>\n",
              "      <td>695247</td>\n",
              "      <td>2378</td>\n",
              "      <td>930101</td>\n",
              "      <td>PRIJEM</td>\n",
              "      <td>VKLAD</td>\n",
              "      <td>700.0</td>\n",
              "      <td>700.0</td>\n",
              "      <td>NaN</td>\n",
              "      <td>NaN</td>\n",
              "      <td>NaN</td>\n",
              "    </tr>\n",
              "    <tr>\n",
              "      <th>1</th>\n",
              "      <td>171812</td>\n",
              "      <td>576</td>\n",
              "      <td>930101</td>\n",
              "      <td>PRIJEM</td>\n",
              "      <td>VKLAD</td>\n",
              "      <td>900.0</td>\n",
              "      <td>900.0</td>\n",
              "      <td>NaN</td>\n",
              "      <td>NaN</td>\n",
              "      <td>NaN</td>\n",
              "    </tr>\n",
              "    <tr>\n",
              "      <th>2</th>\n",
              "      <td>207264</td>\n",
              "      <td>704</td>\n",
              "      <td>930101</td>\n",
              "      <td>PRIJEM</td>\n",
              "      <td>VKLAD</td>\n",
              "      <td>1000.0</td>\n",
              "      <td>1000.0</td>\n",
              "      <td>NaN</td>\n",
              "      <td>NaN</td>\n",
              "      <td>NaN</td>\n",
              "    </tr>\n",
              "    <tr>\n",
              "      <th>3</th>\n",
              "      <td>1117247</td>\n",
              "      <td>3818</td>\n",
              "      <td>930101</td>\n",
              "      <td>PRIJEM</td>\n",
              "      <td>VKLAD</td>\n",
              "      <td>600.0</td>\n",
              "      <td>600.0</td>\n",
              "      <td>NaN</td>\n",
              "      <td>NaN</td>\n",
              "      <td>NaN</td>\n",
              "    </tr>\n",
              "    <tr>\n",
              "      <th>4</th>\n",
              "      <td>579373</td>\n",
              "      <td>1972</td>\n",
              "      <td>930102</td>\n",
              "      <td>PRIJEM</td>\n",
              "      <td>VKLAD</td>\n",
              "      <td>400.0</td>\n",
              "      <td>400.0</td>\n",
              "      <td>NaN</td>\n",
              "      <td>NaN</td>\n",
              "      <td>NaN</td>\n",
              "    </tr>\n",
              "  </tbody>\n",
              "</table>\n",
              "</div>"
            ],
            "text/plain": [
              "   trans_id  account_id    date    type  ... balance  k_symbol  bank account\n",
              "0    695247        2378  930101  PRIJEM  ...   700.0       NaN   NaN     NaN\n",
              "1    171812         576  930101  PRIJEM  ...   900.0       NaN   NaN     NaN\n",
              "2    207264         704  930101  PRIJEM  ...  1000.0       NaN   NaN     NaN\n",
              "3   1117247        3818  930101  PRIJEM  ...   600.0       NaN   NaN     NaN\n",
              "4    579373        1972  930102  PRIJEM  ...   400.0       NaN   NaN     NaN\n",
              "\n",
              "[5 rows x 10 columns]"
            ]
          },
          "metadata": {
            "tags": []
          },
          "execution_count": 4
        }
      ]
    },
    {
      "cell_type": "code",
      "metadata": {
        "colab": {
          "base_uri": "https://localhost:8080/",
          "height": 204
        },
        "id": "Aup2rhyOUUGw",
        "outputId": "87803380-fdfd-495d-973f-471bfd1db541"
      },
      "source": [
        "trans.tail()"
      ],
      "execution_count": null,
      "outputs": [
        {
          "output_type": "execute_result",
          "data": {
            "text/html": [
              "<div>\n",
              "<style scoped>\n",
              "    .dataframe tbody tr th:only-of-type {\n",
              "        vertical-align: middle;\n",
              "    }\n",
              "\n",
              "    .dataframe tbody tr th {\n",
              "        vertical-align: top;\n",
              "    }\n",
              "\n",
              "    .dataframe thead th {\n",
              "        text-align: right;\n",
              "    }\n",
              "</style>\n",
              "<table border=\"1\" class=\"dataframe\">\n",
              "  <thead>\n",
              "    <tr style=\"text-align: right;\">\n",
              "      <th></th>\n",
              "      <th>trans_id</th>\n",
              "      <th>account_id</th>\n",
              "      <th>date</th>\n",
              "      <th>type</th>\n",
              "      <th>operation</th>\n",
              "      <th>amount</th>\n",
              "      <th>balance</th>\n",
              "      <th>k_symbol</th>\n",
              "      <th>bank</th>\n",
              "      <th>account</th>\n",
              "    </tr>\n",
              "  </thead>\n",
              "  <tbody>\n",
              "    <tr>\n",
              "      <th>1056315</th>\n",
              "      <td>3626622</td>\n",
              "      <td>2906</td>\n",
              "      <td>981231</td>\n",
              "      <td>PRIJEM</td>\n",
              "      <td>NaN</td>\n",
              "      <td>62.3</td>\n",
              "      <td>13729.4</td>\n",
              "      <td>UROK</td>\n",
              "      <td>NaN</td>\n",
              "      <td>NaN</td>\n",
              "    </tr>\n",
              "    <tr>\n",
              "      <th>1056316</th>\n",
              "      <td>3627616</td>\n",
              "      <td>2935</td>\n",
              "      <td>981231</td>\n",
              "      <td>PRIJEM</td>\n",
              "      <td>NaN</td>\n",
              "      <td>81.3</td>\n",
              "      <td>19544.9</td>\n",
              "      <td>UROK</td>\n",
              "      <td>NaN</td>\n",
              "      <td>NaN</td>\n",
              "    </tr>\n",
              "    <tr>\n",
              "      <th>1056317</th>\n",
              "      <td>3625403</td>\n",
              "      <td>2869</td>\n",
              "      <td>981231</td>\n",
              "      <td>PRIJEM</td>\n",
              "      <td>NaN</td>\n",
              "      <td>60.2</td>\n",
              "      <td>14638.2</td>\n",
              "      <td>UROK</td>\n",
              "      <td>NaN</td>\n",
              "      <td>NaN</td>\n",
              "    </tr>\n",
              "    <tr>\n",
              "      <th>1056318</th>\n",
              "      <td>3626683</td>\n",
              "      <td>2907</td>\n",
              "      <td>981231</td>\n",
              "      <td>PRIJEM</td>\n",
              "      <td>NaN</td>\n",
              "      <td>107.5</td>\n",
              "      <td>23453.0</td>\n",
              "      <td>UROK</td>\n",
              "      <td>NaN</td>\n",
              "      <td>NaN</td>\n",
              "    </tr>\n",
              "    <tr>\n",
              "      <th>1056319</th>\n",
              "      <td>3626540</td>\n",
              "      <td>2902</td>\n",
              "      <td>981231</td>\n",
              "      <td>PRIJEM</td>\n",
              "      <td>NaN</td>\n",
              "      <td>164.1</td>\n",
              "      <td>41642.9</td>\n",
              "      <td>UROK</td>\n",
              "      <td>NaN</td>\n",
              "      <td>NaN</td>\n",
              "    </tr>\n",
              "  </tbody>\n",
              "</table>\n",
              "</div>"
            ],
            "text/plain": [
              "         trans_id  account_id    date    type  ...  balance  k_symbol  bank account\n",
              "1056315   3626622        2906  981231  PRIJEM  ...  13729.4      UROK   NaN     NaN\n",
              "1056316   3627616        2935  981231  PRIJEM  ...  19544.9      UROK   NaN     NaN\n",
              "1056317   3625403        2869  981231  PRIJEM  ...  14638.2      UROK   NaN     NaN\n",
              "1056318   3626683        2907  981231  PRIJEM  ...  23453.0      UROK   NaN     NaN\n",
              "1056319   3626540        2902  981231  PRIJEM  ...  41642.9      UROK   NaN     NaN\n",
              "\n",
              "[5 rows x 10 columns]"
            ]
          },
          "metadata": {
            "tags": []
          },
          "execution_count": 5
        }
      ]
    },
    {
      "cell_type": "code",
      "metadata": {
        "colab": {
          "base_uri": "https://localhost:8080/"
        },
        "id": "83UUDdw-SwVz",
        "outputId": "0ba93e62-0952-4696-d965-c5e8efedad28"
      },
      "source": [
        "# Checking the data types and null count\n",
        "trans.info()"
      ],
      "execution_count": null,
      "outputs": [
        {
          "output_type": "stream",
          "text": [
            "<class 'pandas.core.frame.DataFrame'>\n",
            "RangeIndex: 1056320 entries, 0 to 1056319\n",
            "Data columns (total 10 columns):\n",
            " #   Column      Non-Null Count    Dtype  \n",
            "---  ------      --------------    -----  \n",
            " 0   trans_id    1056320 non-null  int64  \n",
            " 1   account_id  1056320 non-null  int64  \n",
            " 2   date        1056320 non-null  int64  \n",
            " 3   type        1056320 non-null  object \n",
            " 4   operation   873206 non-null   object \n",
            " 5   amount      1056320 non-null  float64\n",
            " 6   balance     1056320 non-null  float64\n",
            " 7   k_symbol    574439 non-null   object \n",
            " 8   bank        273508 non-null   object \n",
            " 9   account     295389 non-null   float64\n",
            "dtypes: float64(3), int64(3), object(4)\n",
            "memory usage: 80.6+ MB\n"
          ],
          "name": "stdout"
        }
      ]
    },
    {
      "cell_type": "code",
      "metadata": {
        "colab": {
          "base_uri": "https://localhost:8080/"
        },
        "id": "qDiG7xRHT6DL",
        "outputId": "d774e751-151a-4517-dce0-af08dfacf77d"
      },
      "source": [
        "# Checking for the number of rows and columns\n",
        "trans.shape"
      ],
      "execution_count": null,
      "outputs": [
        {
          "output_type": "execute_result",
          "data": {
            "text/plain": [
              "(1056320, 10)"
            ]
          },
          "metadata": {
            "tags": []
          },
          "execution_count": 7
        }
      ]
    },
    {
      "cell_type": "code",
      "metadata": {
        "colab": {
          "base_uri": "https://localhost:8080/"
        },
        "id": "vkSkBuepUENB",
        "outputId": "56ee1642-5f71-4a5a-aa8e-5cb6d02a1f1e"
      },
      "source": [
        "# Checking for unique values\n",
        "trans.nunique()"
      ],
      "execution_count": null,
      "outputs": [
        {
          "output_type": "execute_result",
          "data": {
            "text/plain": [
              "trans_id      1056320\n",
              "account_id       4500\n",
              "date             2191\n",
              "type                3\n",
              "operation           5\n",
              "amount          40400\n",
              "balance        542739\n",
              "k_symbol            8\n",
              "bank               13\n",
              "account          7665\n",
              "dtype: int64"
            ]
          },
          "metadata": {
            "tags": []
          },
          "execution_count": 8
        }
      ]
    },
    {
      "cell_type": "code",
      "metadata": {
        "colab": {
          "base_uri": "https://localhost:8080/"
        },
        "id": "EHZVmq5mUh-R",
        "outputId": "54d34fd6-d643-456f-eb39-6d6d424182bd"
      },
      "source": [
        "# Checking for null values\n",
        "trans.isnull().sum()"
      ],
      "execution_count": null,
      "outputs": [
        {
          "output_type": "execute_result",
          "data": {
            "text/plain": [
              "trans_id           0\n",
              "account_id         0\n",
              "date               0\n",
              "type               0\n",
              "operation     183114\n",
              "amount             0\n",
              "balance            0\n",
              "k_symbol      481881\n",
              "bank          782812\n",
              "account       760931\n",
              "dtype: int64"
            ]
          },
          "metadata": {
            "tags": []
          },
          "execution_count": 9
        }
      ]
    },
    {
      "cell_type": "code",
      "metadata": {
        "colab": {
          "base_uri": "https://localhost:8080/"
        },
        "id": "aIvC5CbWU0AN",
        "outputId": "bca38ee3-d835-4be0-f01d-05b9b0191fa9"
      },
      "source": [
        "# Checking the column names\n",
        "trans.columns"
      ],
      "execution_count": null,
      "outputs": [
        {
          "output_type": "execute_result",
          "data": {
            "text/plain": [
              "Index(['trans_id', 'account_id', 'date', 'type', 'operation', 'amount',\n",
              "       'balance', 'k_symbol', 'bank', 'account'],\n",
              "      dtype='object')"
            ]
          },
          "metadata": {
            "tags": []
          },
          "execution_count": 10
        }
      ]
    },
    {
      "cell_type": "markdown",
      "metadata": {
        "id": "l2kD1O5XVvVJ"
      },
      "source": [
        "## 4. Data Cleaning"
      ]
    },
    {
      "cell_type": "code",
      "metadata": {
        "colab": {
          "base_uri": "https://localhost:8080/"
        },
        "id": "_9a_WrKBV2vB",
        "outputId": "6ce032cc-6fac-44a9-aff1-292dff1bc7ee"
      },
      "source": [
        "# Filtering the features\n",
        "trans_df =  trans[['date', 'account_id', 'type', 'amount']]\n",
        "trans_df.head()"
      ],
      "execution_count": null,
      "outputs": [
        {
          "output_type": "execute_result",
          "data": {
            "text/html": [
              "<div>\n",
              "<style scoped>\n",
              "    .dataframe tbody tr th:only-of-type {\n",
              "        vertical-align: middle;\n",
              "    }\n",
              "\n",
              "    .dataframe tbody tr th {\n",
              "        vertical-align: top;\n",
              "    }\n",
              "\n",
              "    .dataframe thead th {\n",
              "        text-align: right;\n",
              "    }\n",
              "</style>\n",
              "<table border=\"1\" class=\"dataframe\">\n",
              "  <thead>\n",
              "    <tr style=\"text-align: right;\">\n",
              "      <th></th>\n",
              "      <th>date</th>\n",
              "      <th>account_id</th>\n",
              "      <th>type</th>\n",
              "      <th>amount</th>\n",
              "    </tr>\n",
              "  </thead>\n",
              "  <tbody>\n",
              "    <tr>\n",
              "      <th>0</th>\n",
              "      <td>930101</td>\n",
              "      <td>2378</td>\n",
              "      <td>PRIJEM</td>\n",
              "      <td>700.0</td>\n",
              "    </tr>\n",
              "    <tr>\n",
              "      <th>1</th>\n",
              "      <td>930101</td>\n",
              "      <td>576</td>\n",
              "      <td>PRIJEM</td>\n",
              "      <td>900.0</td>\n",
              "    </tr>\n",
              "    <tr>\n",
              "      <th>2</th>\n",
              "      <td>930101</td>\n",
              "      <td>704</td>\n",
              "      <td>PRIJEM</td>\n",
              "      <td>1000.0</td>\n",
              "    </tr>\n",
              "    <tr>\n",
              "      <th>3</th>\n",
              "      <td>930101</td>\n",
              "      <td>3818</td>\n",
              "      <td>PRIJEM</td>\n",
              "      <td>600.0</td>\n",
              "    </tr>\n",
              "    <tr>\n",
              "      <th>4</th>\n",
              "      <td>930102</td>\n",
              "      <td>1972</td>\n",
              "      <td>PRIJEM</td>\n",
              "      <td>400.0</td>\n",
              "    </tr>\n",
              "  </tbody>\n",
              "</table>\n",
              "</div>"
            ],
            "text/plain": [
              "     date  account_id    type  amount\n",
              "0  930101        2378  PRIJEM   700.0\n",
              "1  930101         576  PRIJEM   900.0\n",
              "2  930101         704  PRIJEM  1000.0\n",
              "3  930101        3818  PRIJEM   600.0\n",
              "4  930102        1972  PRIJEM   400.0"
            ]
          },
          "metadata": {
            "tags": []
          },
          "execution_count": 11
        }
      ]
    },
    {
      "cell_type": "code",
      "metadata": {
        "colab": {
          "base_uri": "https://localhost:8080/"
        },
        "id": "GcukQwWVVZ2x",
        "outputId": "7164162c-0357-4f15-a922-5ea2b144915f"
      },
      "source": [
        "# Converting the date column into datetime\n",
        "trans_df['date'] = pd.to_datetime(trans_df['date'], format= '%y%m%d')\n",
        "trans_df.head()"
      ],
      "execution_count": null,
      "outputs": [
        {
          "output_type": "execute_result",
          "data": {
            "text/html": [
              "<div>\n",
              "<style scoped>\n",
              "    .dataframe tbody tr th:only-of-type {\n",
              "        vertical-align: middle;\n",
              "    }\n",
              "\n",
              "    .dataframe tbody tr th {\n",
              "        vertical-align: top;\n",
              "    }\n",
              "\n",
              "    .dataframe thead th {\n",
              "        text-align: right;\n",
              "    }\n",
              "</style>\n",
              "<table border=\"1\" class=\"dataframe\">\n",
              "  <thead>\n",
              "    <tr style=\"text-align: right;\">\n",
              "      <th></th>\n",
              "      <th>date</th>\n",
              "      <th>account_id</th>\n",
              "      <th>type</th>\n",
              "      <th>amount</th>\n",
              "    </tr>\n",
              "  </thead>\n",
              "  <tbody>\n",
              "    <tr>\n",
              "      <th>0</th>\n",
              "      <td>1993-01-01</td>\n",
              "      <td>2378</td>\n",
              "      <td>PRIJEM</td>\n",
              "      <td>700.0</td>\n",
              "    </tr>\n",
              "    <tr>\n",
              "      <th>1</th>\n",
              "      <td>1993-01-01</td>\n",
              "      <td>576</td>\n",
              "      <td>PRIJEM</td>\n",
              "      <td>900.0</td>\n",
              "    </tr>\n",
              "    <tr>\n",
              "      <th>2</th>\n",
              "      <td>1993-01-01</td>\n",
              "      <td>704</td>\n",
              "      <td>PRIJEM</td>\n",
              "      <td>1000.0</td>\n",
              "    </tr>\n",
              "    <tr>\n",
              "      <th>3</th>\n",
              "      <td>1993-01-01</td>\n",
              "      <td>3818</td>\n",
              "      <td>PRIJEM</td>\n",
              "      <td>600.0</td>\n",
              "    </tr>\n",
              "    <tr>\n",
              "      <th>4</th>\n",
              "      <td>1993-01-02</td>\n",
              "      <td>1972</td>\n",
              "      <td>PRIJEM</td>\n",
              "      <td>400.0</td>\n",
              "    </tr>\n",
              "  </tbody>\n",
              "</table>\n",
              "</div>"
            ],
            "text/plain": [
              "        date  account_id    type  amount\n",
              "0 1993-01-01        2378  PRIJEM   700.0\n",
              "1 1993-01-01         576  PRIJEM   900.0\n",
              "2 1993-01-01         704  PRIJEM  1000.0\n",
              "3 1993-01-01        3818  PRIJEM   600.0\n",
              "4 1993-01-02        1972  PRIJEM   400.0"
            ]
          },
          "metadata": {
            "tags": []
          },
          "execution_count": 12
        }
      ]
    },
    {
      "cell_type": "code",
      "metadata": {
        "colab": {
          "base_uri": "https://localhost:8080/"
        },
        "id": "WlJfuD2IWKqB",
        "outputId": "2d4df990-71f7-4b05-dad4-8a31b775a968"
      },
      "source": [
        "trans_df.isnull().sum()"
      ],
      "execution_count": null,
      "outputs": [
        {
          "output_type": "execute_result",
          "data": {
            "text/plain": [
              "date          0\n",
              "account_id    0\n",
              "type          0\n",
              "amount        0\n",
              "dtype: int64"
            ]
          },
          "metadata": {
            "tags": []
          },
          "execution_count": 13
        }
      ]
    },
    {
      "cell_type": "markdown",
      "metadata": {
        "id": "VeOmkbjTWFF5"
      },
      "source": [
        "## 5. EDA"
      ]
    },
    {
      "cell_type": "code",
      "metadata": {
        "colab": {
          "base_uri": "https://localhost:8080/",
          "height": 297
        },
        "id": "I8DPZwRnWHkE",
        "outputId": "c2534e07-3900-4da4-daa8-61adf29d28d3"
      },
      "source": [
        "trans_df.describe()"
      ],
      "execution_count": null,
      "outputs": [
        {
          "output_type": "execute_result",
          "data": {
            "text/html": [
              "<div>\n",
              "<style scoped>\n",
              "    .dataframe tbody tr th:only-of-type {\n",
              "        vertical-align: middle;\n",
              "    }\n",
              "\n",
              "    .dataframe tbody tr th {\n",
              "        vertical-align: top;\n",
              "    }\n",
              "\n",
              "    .dataframe thead th {\n",
              "        text-align: right;\n",
              "    }\n",
              "</style>\n",
              "<table border=\"1\" class=\"dataframe\">\n",
              "  <thead>\n",
              "    <tr style=\"text-align: right;\">\n",
              "      <th></th>\n",
              "      <th>account_id</th>\n",
              "      <th>amount</th>\n",
              "    </tr>\n",
              "  </thead>\n",
              "  <tbody>\n",
              "    <tr>\n",
              "      <th>count</th>\n",
              "      <td>1.056320e+06</td>\n",
              "      <td>1.056320e+06</td>\n",
              "    </tr>\n",
              "    <tr>\n",
              "      <th>mean</th>\n",
              "      <td>2.936867e+03</td>\n",
              "      <td>5.924146e+03</td>\n",
              "    </tr>\n",
              "    <tr>\n",
              "      <th>std</th>\n",
              "      <td>2.477345e+03</td>\n",
              "      <td>9.522735e+03</td>\n",
              "    </tr>\n",
              "    <tr>\n",
              "      <th>min</th>\n",
              "      <td>1.000000e+00</td>\n",
              "      <td>0.000000e+00</td>\n",
              "    </tr>\n",
              "    <tr>\n",
              "      <th>25%</th>\n",
              "      <td>1.204000e+03</td>\n",
              "      <td>1.359000e+02</td>\n",
              "    </tr>\n",
              "    <tr>\n",
              "      <th>50%</th>\n",
              "      <td>2.434000e+03</td>\n",
              "      <td>2.100000e+03</td>\n",
              "    </tr>\n",
              "    <tr>\n",
              "      <th>75%</th>\n",
              "      <td>3.660000e+03</td>\n",
              "      <td>6.800000e+03</td>\n",
              "    </tr>\n",
              "    <tr>\n",
              "      <th>max</th>\n",
              "      <td>1.138200e+04</td>\n",
              "      <td>8.740000e+04</td>\n",
              "    </tr>\n",
              "  </tbody>\n",
              "</table>\n",
              "</div>"
            ],
            "text/plain": [
              "         account_id        amount\n",
              "count  1.056320e+06  1.056320e+06\n",
              "mean   2.936867e+03  5.924146e+03\n",
              "std    2.477345e+03  9.522735e+03\n",
              "min    1.000000e+00  0.000000e+00\n",
              "25%    1.204000e+03  1.359000e+02\n",
              "50%    2.434000e+03  2.100000e+03\n",
              "75%    3.660000e+03  6.800000e+03\n",
              "max    1.138200e+04  8.740000e+04"
            ]
          },
          "metadata": {
            "tags": []
          },
          "execution_count": 14
        }
      ]
    },
    {
      "cell_type": "code",
      "metadata": {
        "colab": {
          "base_uri": "https://localhost:8080/",
          "height": 353
        },
        "id": "H4zNp8coWzEF",
        "outputId": "6f7e998c-141a-4a71-97d1-e7885c59564b"
      },
      "source": [
        "sns.distplot(trans_df['amount'], bins=50)"
      ],
      "execution_count": null,
      "outputs": [
        {
          "output_type": "stream",
          "text": [
            "/usr/local/lib/python3.7/dist-packages/seaborn/distributions.py:2557: FutureWarning: `distplot` is a deprecated function and will be removed in a future version. Please adapt your code to use either `displot` (a figure-level function with similar flexibility) or `histplot` (an axes-level function for histograms).\n",
            "  warnings.warn(msg, FutureWarning)\n"
          ],
          "name": "stderr"
        },
        {
          "output_type": "execute_result",
          "data": {
            "text/plain": [
              "<matplotlib.axes._subplots.AxesSubplot at 0x7fb0060fc790>"
            ]
          },
          "metadata": {
            "tags": []
          },
          "execution_count": 15
        },
        {
          "output_type": "display_data",
          "data": {
            "image/png": "[encoded data removed]",
            "text/plain": [
              "<Figure size 432x288 with 1 Axes>"
            ]
          },
          "metadata": {
            "tags": [],
            "needs_background": "light"
          }
        }
      ]
    },
    {
      "cell_type": "markdown",
      "metadata": {
        "id": "RxGSk4q_X-Mr"
      },
      "source": [
        "The amounts transacted through the account are skewed to the left. This indicates that most of the transactions were less than 10,000."
      ]
    },
    {
      "cell_type": "code",
      "metadata": {
        "colab": {
          "base_uri": "https://localhost:8080/",
          "height": 299
        },
        "id": "hR7yUI9DYXQr",
        "outputId": "da4b8c54-727f-41a3-ee4d-4903a98ca9ee"
      },
      "source": [
        "sns.countplot(x= 'type', data= trans_df)"
      ],
      "execution_count": null,
      "outputs": [
        {
          "output_type": "execute_result",
          "data": {
            "text/plain": [
              "<matplotlib.axes._subplots.AxesSubplot at 0x7faff5775b10>"
            ]
          },
          "metadata": {
            "tags": []
          },
          "execution_count": 16
        },
        {
          "output_type": "display_data",
          "data": {
            "image/png": "[encoded data removed]",
            "text/plain": [
              "<Figure size 432x288 with 1 Axes>"
            ]
          },
          "metadata": {
            "tags": [],
            "needs_background": "light"
          }
        }
      ]
    },
    {
      "cell_type": "markdown",
      "metadata": {
        "id": "LdPIbcS9Y2T-"
      },
      "source": [
        "There are over 600,000 VYDAJ transaction types."
      ]
    },
    {
      "cell_type": "code",
      "metadata": {
        "colab": {
          "base_uri": "https://localhost:8080/",
          "height": 768
        },
        "id": "0uQBx7cEY_bg",
        "outputId": "626ad477-8b51-4a8e-fb7b-ad7d0770ddd5"
      },
      "source": [
        "trans_df.hist(figsize= (14,12))"
      ],
      "execution_count": null,
      "outputs": [
        {
          "output_type": "execute_result",
          "data": {
            "text/plain": [
              "array([[<matplotlib.axes._subplots.AxesSubplot object at 0x7fafeaa48790>,\n",
              "        <matplotlib.axes._subplots.AxesSubplot object at 0x7fafea9f9d50>]],\n",
              "      dtype=object)"
            ]
          },
          "metadata": {
            "tags": []
          },
          "execution_count": 17
        },
        {
          "output_type": "display_data",
          "data": {
            "image/png": "[encoded data removed]",
            "text/plain": [
              "<Figure size 1008x864 with 2 Axes>"
            ]
          },
          "metadata": {
            "tags": [],
            "needs_background": "light"
          }
        }
      ]
    },
    {
      "cell_type": "code",
      "metadata": {
        "colab": {
          "base_uri": "https://localhost:8080/",
          "height": 812
        },
        "id": "NhGpM4pXacXP",
        "outputId": "de9efd45-42d7-4a0d-c3d1-d6abbe76e77d"
      },
      "source": [
        "# Plotting a line chart\n",
        "\n",
        "def plot_df(df, x, y, xlabel='date', ylabel='amount', title='', dpi= 100):\n",
        "  plt.figure(figsize= (14,12), dpi=dpi)\n",
        "  plt.plot(x, y, color= 'tab:red')\n",
        "  plt.gca().set(title= title, xlabel=xlabel, ylabel=ylabel)\n",
        "  plt.show()\n",
        "\n",
        "plot_df(trans_df, x= trans_df.date, y=trans_df.amount, title='Amount Transacted')"
      ],
      "execution_count": null,
      "outputs": [
        {
          "output_type": "display_data",
          "data": {
            "image/png": "[encoded data removed]",
            "text/plain": [
              "<Figure size 1400x1200 with 1 Axes>"
            ]
          },
          "metadata": {
            "tags": [],
            "needs_background": "light"
          }
        }
      ]
    },
    {
      "cell_type": "code",
      "metadata": {
        "id": "v-q55ouQdGn6"
      },
      "source": [
        "# Renaming the transactions\n",
        "to_replace = {\"PRIJEM\":'CREDIT', \"VYDAJ\":'DEBIT', \"VYBER\":'UNKNOWN'}\n",
        "trans_df['type'] = trans_df['type'].replace(to_replace)"
      ],
      "execution_count": null,
      "outputs": []
    },
    {
      "cell_type": "code",
      "metadata": {
        "colab": {
          "base_uri": "https://localhost:8080/",
          "height": 235
        },
        "id": "rAhAWwelePxS",
        "outputId": "8a83bbf8-1c28-40d8-bd32-1416c7ede64e"
      },
      "source": [
        "# Filtering to remain with withdrawals only.\n",
        "debit_df = trans_df.query('type == \"DEBIT\"').sort_values(by= ['account_id', 'date']).set_index('date')\n",
        "debit_df.head()"
      ],
      "execution_count": null,
      "outputs": [
        {
          "output_type": "execute_result",
          "data": {
            "text/html": [
              "<div>\n",
              "<style scoped>\n",
              "    .dataframe tbody tr th:only-of-type {\n",
              "        vertical-align: middle;\n",
              "    }\n",
              "\n",
              "    .dataframe tbody tr th {\n",
              "        vertical-align: top;\n",
              "    }\n",
              "\n",
              "    .dataframe thead th {\n",
              "        text-align: right;\n",
              "    }\n",
              "</style>\n",
              "<table border=\"1\" class=\"dataframe\">\n",
              "  <thead>\n",
              "    <tr style=\"text-align: right;\">\n",
              "      <th></th>\n",
              "      <th>account_id</th>\n",
              "      <th>type</th>\n",
              "      <th>amount</th>\n",
              "    </tr>\n",
              "    <tr>\n",
              "      <th>date</th>\n",
              "      <th></th>\n",
              "      <th></th>\n",
              "      <th></th>\n",
              "    </tr>\n",
              "  </thead>\n",
              "  <tbody>\n",
              "    <tr>\n",
              "      <th>1995-06-22</th>\n",
              "      <td>1</td>\n",
              "      <td>DEBIT</td>\n",
              "      <td>200.0</td>\n",
              "    </tr>\n",
              "    <tr>\n",
              "      <th>1995-07-22</th>\n",
              "      <td>1</td>\n",
              "      <td>DEBIT</td>\n",
              "      <td>5300.0</td>\n",
              "    </tr>\n",
              "    <tr>\n",
              "      <th>1995-08-21</th>\n",
              "      <td>1</td>\n",
              "      <td>DEBIT</td>\n",
              "      <td>7500.0</td>\n",
              "    </tr>\n",
              "    <tr>\n",
              "      <th>1995-08-31</th>\n",
              "      <td>1</td>\n",
              "      <td>DEBIT</td>\n",
              "      <td>14.6</td>\n",
              "    </tr>\n",
              "    <tr>\n",
              "      <th>1995-09-05</th>\n",
              "      <td>1</td>\n",
              "      <td>DEBIT</td>\n",
              "      <td>2452.0</td>\n",
              "    </tr>\n",
              "  </tbody>\n",
              "</table>\n",
              "</div>"
            ],
            "text/plain": [
              "            account_id   type  amount\n",
              "date                                 \n",
              "1995-06-22           1  DEBIT   200.0\n",
              "1995-07-22           1  DEBIT  5300.0\n",
              "1995-08-21           1  DEBIT  7500.0\n",
              "1995-08-31           1  DEBIT    14.6\n",
              "1995-09-05           1  DEBIT  2452.0"
            ]
          },
          "metadata": {
            "tags": []
          },
          "execution_count": 20
        }
      ]
    },
    {
      "cell_type": "markdown",
      "metadata": {
        "id": "9UNJ3qZCjFQi"
      },
      "source": [
        "### Feature Engineering"
      ]
    },
    {
      "cell_type": "markdown",
      "metadata": {
        "id": "f5yY2abifxw7"
      },
      "source": [
        "\n",
        "\n",
        "1.   sum_5days: the accumulative withdrawal amounts from an account in the previous 5 days (including the current day).\n",
        "2.   count_5days: the count of withdrawal transactions from an account in the previous 5 days (including the current day).\n",
        "\n",
        "\n"
      ]
    },
    {
      "cell_type": "code",
      "metadata": {
        "colab": {
          "base_uri": "https://localhost:8080/",
          "height": 700
        },
        "id": "X_qWCyZof6L7",
        "outputId": "bdc91799-f1ec-4fe2-9136-cd2cabb6aa17"
      },
      "source": [
        "# Feature engineering.\n",
        "# These features will help assist in detecting huge transactions done \n",
        "# below the reporting threshold over a period of time.\n",
        "\n",
        "# Getting the sum of the previous 5 days transaction amounts\n",
        "debit_df['sum_5days'] = debit_df.groupby('account_id')['amount'].transform(lambda s: s.rolling(timedelta(days = 5)).sum())\n",
        "\n",
        "# get the count of the previous 5 days transactions.\n",
        "debit_df['count_5days'] = debit_df.groupby('account_id')['amount'].transform(lambda s: s.rolling(timedelta(days=5)).count())\n",
        "\n",
        "debit_df.head(20)"
      ],
      "execution_count": null,
      "outputs": [
        {
          "output_type": "execute_result",
          "data": {
            "text/html": [
              "<div>\n",
              "<style scoped>\n",
              "    .dataframe tbody tr th:only-of-type {\n",
              "        vertical-align: middle;\n",
              "    }\n",
              "\n",
              "    .dataframe tbody tr th {\n",
              "        vertical-align: top;\n",
              "    }\n",
              "\n",
              "    .dataframe thead th {\n",
              "        text-align: right;\n",
              "    }\n",
              "</style>\n",
              "<table border=\"1\" class=\"dataframe\">\n",
              "  <thead>\n",
              "    <tr style=\"text-align: right;\">\n",
              "      <th></th>\n",
              "      <th>account_id</th>\n",
              "      <th>type</th>\n",
              "      <th>amount</th>\n",
              "      <th>sum_5days</th>\n",
              "      <th>count_5days</th>\n",
              "    </tr>\n",
              "    <tr>\n",
              "      <th>date</th>\n",
              "      <th></th>\n",
              "      <th></th>\n",
              "      <th></th>\n",
              "      <th></th>\n",
              "      <th></th>\n",
              "    </tr>\n",
              "  </thead>\n",
              "  <tbody>\n",
              "    <tr>\n",
              "      <th>1995-06-22</th>\n",
              "      <td>1</td>\n",
              "      <td>DEBIT</td>\n",
              "      <td>200.0</td>\n",
              "      <td>200.0</td>\n",
              "      <td>1.0</td>\n",
              "    </tr>\n",
              "    <tr>\n",
              "      <th>1995-07-22</th>\n",
              "      <td>1</td>\n",
              "      <td>DEBIT</td>\n",
              "      <td>5300.0</td>\n",
              "      <td>5300.0</td>\n",
              "      <td>1.0</td>\n",
              "    </tr>\n",
              "    <tr>\n",
              "      <th>1995-08-21</th>\n",
              "      <td>1</td>\n",
              "      <td>DEBIT</td>\n",
              "      <td>7500.0</td>\n",
              "      <td>7500.0</td>\n",
              "      <td>1.0</td>\n",
              "    </tr>\n",
              "    <tr>\n",
              "      <th>1995-08-31</th>\n",
              "      <td>1</td>\n",
              "      <td>DEBIT</td>\n",
              "      <td>14.6</td>\n",
              "      <td>14.6</td>\n",
              "      <td>1.0</td>\n",
              "    </tr>\n",
              "    <tr>\n",
              "      <th>1995-09-05</th>\n",
              "      <td>1</td>\n",
              "      <td>DEBIT</td>\n",
              "      <td>2452.0</td>\n",
              "      <td>2452.0</td>\n",
              "      <td>1.0</td>\n",
              "    </tr>\n",
              "    <tr>\n",
              "      <th>1995-09-20</th>\n",
              "      <td>1</td>\n",
              "      <td>DEBIT</td>\n",
              "      <td>700.0</td>\n",
              "      <td>700.0</td>\n",
              "      <td>1.0</td>\n",
              "    </tr>\n",
              "    <tr>\n",
              "      <th>1995-09-30</th>\n",
              "      <td>1</td>\n",
              "      <td>DEBIT</td>\n",
              "      <td>14.6</td>\n",
              "      <td>14.6</td>\n",
              "      <td>1.0</td>\n",
              "    </tr>\n",
              "    <tr>\n",
              "      <th>1995-10-05</th>\n",
              "      <td>1</td>\n",
              "      <td>DEBIT</td>\n",
              "      <td>2452.0</td>\n",
              "      <td>2452.0</td>\n",
              "      <td>1.0</td>\n",
              "    </tr>\n",
              "    <tr>\n",
              "      <th>1995-10-20</th>\n",
              "      <td>1</td>\n",
              "      <td>DEBIT</td>\n",
              "      <td>2900.0</td>\n",
              "      <td>2900.0</td>\n",
              "      <td>1.0</td>\n",
              "    </tr>\n",
              "    <tr>\n",
              "      <th>1995-10-31</th>\n",
              "      <td>1</td>\n",
              "      <td>DEBIT</td>\n",
              "      <td>14.6</td>\n",
              "      <td>14.6</td>\n",
              "      <td>1.0</td>\n",
              "    </tr>\n",
              "    <tr>\n",
              "      <th>1995-11-05</th>\n",
              "      <td>1</td>\n",
              "      <td>DEBIT</td>\n",
              "      <td>2452.0</td>\n",
              "      <td>2452.0</td>\n",
              "      <td>1.0</td>\n",
              "    </tr>\n",
              "    <tr>\n",
              "      <th>1995-11-19</th>\n",
              "      <td>1</td>\n",
              "      <td>DEBIT</td>\n",
              "      <td>1900.0</td>\n",
              "      <td>1900.0</td>\n",
              "      <td>1.0</td>\n",
              "    </tr>\n",
              "    <tr>\n",
              "      <th>1995-11-30</th>\n",
              "      <td>1</td>\n",
              "      <td>DEBIT</td>\n",
              "      <td>14.6</td>\n",
              "      <td>14.6</td>\n",
              "      <td>1.0</td>\n",
              "    </tr>\n",
              "    <tr>\n",
              "      <th>1995-11-30</th>\n",
              "      <td>1</td>\n",
              "      <td>DEBIT</td>\n",
              "      <td>870.0</td>\n",
              "      <td>884.6</td>\n",
              "      <td>2.0</td>\n",
              "    </tr>\n",
              "    <tr>\n",
              "      <th>1995-12-05</th>\n",
              "      <td>1</td>\n",
              "      <td>DEBIT</td>\n",
              "      <td>2452.0</td>\n",
              "      <td>2452.0</td>\n",
              "      <td>1.0</td>\n",
              "    </tr>\n",
              "    <tr>\n",
              "      <th>1995-12-19</th>\n",
              "      <td>1</td>\n",
              "      <td>DEBIT</td>\n",
              "      <td>1600.0</td>\n",
              "      <td>1600.0</td>\n",
              "      <td>1.0</td>\n",
              "    </tr>\n",
              "    <tr>\n",
              "      <th>1995-12-24</th>\n",
              "      <td>1</td>\n",
              "      <td>DEBIT</td>\n",
              "      <td>540.0</td>\n",
              "      <td>540.0</td>\n",
              "      <td>1.0</td>\n",
              "    </tr>\n",
              "    <tr>\n",
              "      <th>1995-12-31</th>\n",
              "      <td>1</td>\n",
              "      <td>DEBIT</td>\n",
              "      <td>14.6</td>\n",
              "      <td>14.6</td>\n",
              "      <td>1.0</td>\n",
              "    </tr>\n",
              "    <tr>\n",
              "      <th>1996-01-04</th>\n",
              "      <td>1</td>\n",
              "      <td>DEBIT</td>\n",
              "      <td>210.0</td>\n",
              "      <td>224.6</td>\n",
              "      <td>2.0</td>\n",
              "    </tr>\n",
              "    <tr>\n",
              "      <th>1996-01-05</th>\n",
              "      <td>1</td>\n",
              "      <td>DEBIT</td>\n",
              "      <td>2452.0</td>\n",
              "      <td>2662.0</td>\n",
              "      <td>2.0</td>\n",
              "    </tr>\n",
              "  </tbody>\n",
              "</table>\n",
              "</div>"
            ],
            "text/plain": [
              "            account_id   type  amount  sum_5days  count_5days\n",
              "date                                                         \n",
              "1995-06-22           1  DEBIT   200.0      200.0          1.0\n",
              "1995-07-22           1  DEBIT  5300.0     5300.0          1.0\n",
              "1995-08-21           1  DEBIT  7500.0     7500.0          1.0\n",
              "1995-08-31           1  DEBIT    14.6       14.6          1.0\n",
              "1995-09-05           1  DEBIT  2452.0     2452.0          1.0\n",
              "1995-09-20           1  DEBIT   700.0      700.0          1.0\n",
              "1995-09-30           1  DEBIT    14.6       14.6          1.0\n",
              "1995-10-05           1  DEBIT  2452.0     2452.0          1.0\n",
              "1995-10-20           1  DEBIT  2900.0     2900.0          1.0\n",
              "1995-10-31           1  DEBIT    14.6       14.6          1.0\n",
              "1995-11-05           1  DEBIT  2452.0     2452.0          1.0\n",
              "1995-11-19           1  DEBIT  1900.0     1900.0          1.0\n",
              "1995-11-30           1  DEBIT    14.6       14.6          1.0\n",
              "1995-11-30           1  DEBIT   870.0      884.6          2.0\n",
              "1995-12-05           1  DEBIT  2452.0     2452.0          1.0\n",
              "1995-12-19           1  DEBIT  1600.0     1600.0          1.0\n",
              "1995-12-24           1  DEBIT   540.0      540.0          1.0\n",
              "1995-12-31           1  DEBIT    14.6       14.6          1.0\n",
              "1996-01-04           1  DEBIT   210.0      224.6          2.0\n",
              "1996-01-05           1  DEBIT  2452.0     2662.0          2.0"
            ]
          },
          "metadata": {
            "tags": []
          },
          "execution_count": 21
        }
      ]
    },
    {
      "cell_type": "code",
      "metadata": {
        "colab": {
          "base_uri": "https://localhost:8080/"
        },
        "id": "ps0GuuCPjMUk",
        "outputId": "f74a2303-5e97-4e45-ad26-3d67ed2b2127"
      },
      "source": [
        "# Checking for unique values\n",
        "debit_df.nunique()"
      ],
      "execution_count": null,
      "outputs": [
        {
          "output_type": "execute_result",
          "data": {
            "text/plain": [
              "account_id      4500\n",
              "type               1\n",
              "amount          5786\n",
              "sum_5days      49169\n",
              "count_5days       10\n",
              "dtype: int64"
            ]
          },
          "metadata": {
            "tags": []
          },
          "execution_count": 28
        }
      ]
    },
    {
      "cell_type": "code",
      "metadata": {
        "colab": {
          "base_uri": "https://localhost:8080/",
          "height": 788
        },
        "id": "iDGuVwQpYIi4",
        "outputId": "b2c29dd2-3c99-40a1-f09c-1ddab197d66e"
      },
      "source": [
        "# Plotting the sum_5days\n",
        "sns.distplot(debit_df['sum_5days'], bins= 50)"
      ],
      "execution_count": null,
      "outputs": [
        {
          "output_type": "stream",
          "text": [
            "/usr/local/lib/python3.7/dist-packages/seaborn/distributions.py:2557: FutureWarning: `distplot` is a deprecated function and will be removed in a future version. Please adapt your code to use either `displot` (a figure-level function with similar flexibility) or `histplot` (an axes-level function for histograms).\n",
            "  warnings.warn(msg, FutureWarning)\n"
          ],
          "name": "stderr"
        },
        {
          "output_type": "execute_result",
          "data": {
            "text/plain": [
              "<matplotlib.axes._subplots.AxesSubplot at 0x7fafe5c4e650>"
            ]
          },
          "metadata": {
            "tags": []
          },
          "execution_count": 31
        },
        {
          "output_type": "display_data",
          "data": {
            "image/png": "[encoded data removed]",
            "text/plain": [
              "<Figure size 1008x864 with 1 Axes>"
            ]
          },
          "metadata": {
            "tags": [],
            "needs_background": "light"
          }
        }
      ]
    },
    {
      "cell_type": "markdown",
      "metadata": {
        "id": "dREv2XwKcQIf"
      },
      "source": [
        "Majority of the accounts are debited with low amounts within 5 days."
      ]
    },
    {
      "cell_type": "code",
      "metadata": {
        "colab": {
          "base_uri": "https://localhost:8080/",
          "height": 734
        },
        "id": "KJHv-Q2dYr3x",
        "outputId": "6b33f430-2518-416a-a22c-5090a5940c31"
      },
      "source": [
        "# Plotting the count of 5 days transactions\n",
        "sns.countplot(x= 'count_5days', data= debit_df)"
      ],
      "execution_count": null,
      "outputs": [
        {
          "output_type": "execute_result",
          "data": {
            "text/plain": [
              "<matplotlib.axes._subplots.AxesSubplot at 0x7fafe59fca10>"
            ]
          },
          "metadata": {
            "tags": []
          },
          "execution_count": 32
        },
        {
          "output_type": "display_data",
          "data": {
            "image/png": "[encoded data removed]",
            "text/plain": [
              "<Figure size 1008x864 with 1 Axes>"
            ]
          },
          "metadata": {
            "tags": [],
            "needs_background": "light"
          }
        }
      ]
    },
    {
      "cell_type": "markdown",
      "metadata": {
        "id": "ZWbbgNm8chQL"
      },
      "source": [
        "Majority of the accounts have less than 4 transacctions within 5 days."
      ]
    },
    {
      "cell_type": "code",
      "metadata": {
        "colab": {
          "base_uri": "https://localhost:8080/",
          "height": 354
        },
        "id": "Ib0ogVL2ZOVy",
        "outputId": "b5725ac9-6759-4c67-c041-cd0bed1016a2"
      },
      "source": [
        "# Plotting sum_5days against count_5days\n",
        "sns.catplot(x='count_5days', y= 'sum_5days', data= debit_df, order=[1,2,3,4,5,6,7,8,9,10], kind= 'box', aspect= 3.0)"
      ],
      "execution_count": null,
      "outputs": [
        {
          "output_type": "execute_result",
          "data": {
            "text/plain": [
              "<seaborn.axisgrid.FacetGrid at 0x7fafe54f4a90>"
            ]
          },
          "metadata": {
            "tags": []
          },
          "execution_count": 39
        },
        {
          "output_type": "display_data",
          "data": {
            "image/png": "[encoded data removed]",
            "text/plain": [
              "<Figure size 1080x360 with 1 Axes>"
            ]
          },
          "metadata": {
            "tags": [],
            "needs_background": "light"
          }
        }
      ]
    },
    {
      "cell_type": "markdown",
      "metadata": {
        "id": "u7Ub-XkodXOw"
      },
      "source": [
        "## Anomaly detection: Isolation Forest"
      ]
    },
    {
      "cell_type": "code",
      "metadata": {
        "colab": {
          "base_uri": "https://localhost:8080/"
        },
        "id": "BzeeXiPCd33V",
        "outputId": "a2b8c429-0e6f-47c8-fcc8-eb0f8da038b8"
      },
      "source": [
        "!pip install pyod"
      ],
      "execution_count": null,
      "outputs": [
        {
          "output_type": "stream",
          "text": [
            "Collecting pyod\n",
            "  Downloading pyod-0.9.0.tar.gz (105 kB)\n",
            "\u001b[?25l\r\u001b[K     |███                             | 10 kB 7.4 MB/s eta 0:00:01\r\u001b[K     |██████▏                         | 20 kB 11.4 MB/s eta 0:00:01\r\u001b[K     |█████████▎                      | 30 kB 14.6 MB/s eta 0:00:01\r\u001b[K     |████████████▍                   | 40 kB 17.0 MB/s eta 0:00:01\r\u001b[K     |███████████████▌                | 51 kB 19.1 MB/s eta 0:00:01\r\u001b[K     |██████████████████▋             | 61 kB 21.3 MB/s eta 0:00:01\r\u001b[K     |█████████████████████▊          | 71 kB 23.1 MB/s eta 0:00:01\r\u001b[K     |████████████████████████▉       | 81 kB 23.7 MB/s eta 0:00:01\r\u001b[K     |████████████████████████████    | 92 kB 24.2 MB/s eta 0:00:01\r\u001b[K     |███████████████████████████████ | 102 kB 26.2 MB/s eta 0:00:01\r\u001b[K     |████████████████████████████████| 105 kB 26.2 MB/s \n",
            "\u001b[?25hRequirement already satisfied: joblib in /usr/local/lib/python3.7/dist-packages (from pyod) (1.0.1)\n",
            "Requirement already satisfied: matplotlib in /usr/local/lib/python3.7/dist-packages (from pyod) (3.2.2)\n",
            "Requirement already satisfied: numpy>=1.13 in /usr/local/lib/python3.7/dist-packages (from pyod) (1.19.5)\n",
            "Requirement already satisfied: numba>=0.35 in /usr/local/lib/python3.7/dist-packages (from pyod) (0.51.2)\n",
            "Requirement already satisfied: pandas>=0.25 in /usr/local/lib/python3.7/dist-packages (from pyod) (1.1.5)\n",
            "Requirement already satisfied: scipy>=0.19.1 in /usr/local/lib/python3.7/dist-packages (from pyod) (1.4.1)\n",
            "Requirement already satisfied: scikit_learn>=0.19.1 in /usr/local/lib/python3.7/dist-packages (from pyod) (0.22.2.post1)\n",
            "Requirement already satisfied: six in /usr/local/lib/python3.7/dist-packages (from pyod) (1.15.0)\n",
            "Requirement already satisfied: statsmodels in /usr/local/lib/python3.7/dist-packages (from pyod) (0.10.2)\n",
            "Requirement already satisfied: setuptools in /usr/local/lib/python3.7/dist-packages (from numba>=0.35->pyod) (57.2.0)\n",
            "Requirement already satisfied: llvmlite<0.35,>=0.34.0.dev0 in /usr/local/lib/python3.7/dist-packages (from numba>=0.35->pyod) (0.34.0)\n",
            "Requirement already satisfied: python-dateutil>=2.7.3 in /usr/local/lib/python3.7/dist-packages (from pandas>=0.25->pyod) (2.8.1)\n",
            "Requirement already satisfied: pytz>=2017.2 in /usr/local/lib/python3.7/dist-packages (from pandas>=0.25->pyod) (2018.9)\n",
            "Requirement already satisfied: pyparsing!=2.0.4,!=2.1.2,!=2.1.6,>=2.0.1 in /usr/local/lib/python3.7/dist-packages (from matplotlib->pyod) (2.4.7)\n",
            "Requirement already satisfied: kiwisolver>=1.0.1 in /usr/local/lib/python3.7/dist-packages (from matplotlib->pyod) (1.3.1)\n",
            "Requirement already satisfied: cycler>=0.10 in /usr/local/lib/python3.7/dist-packages (from matplotlib->pyod) (0.10.0)\n",
            "Requirement already satisfied: patsy>=0.4.0 in /usr/local/lib/python3.7/dist-packages (from statsmodels->pyod) (0.5.1)\n",
            "Building wheels for collected packages: pyod\n",
            "  Building wheel for pyod (setup.py) ... \u001b[?25l\u001b[?25hdone\n",
            "  Created wheel for pyod: filename=pyod-0.9.0-py3-none-any.whl size=122560 sha256=1bdb461ce0e2cfa56203c545a9099b7781104b2be9e0da02d8a3d55f96c8ac97\n",
            "  Stored in directory: /root/.cache/pip/wheels/42/5f/59/5984a6116a4d19aee28d8ebeffd431364ce1cf21eb73a6ad34\n",
            "Successfully built pyod\n",
            "Installing collected packages: pyod\n",
            "Successfully installed pyod-0.9.0\n"
          ],
          "name": "stdout"
        }
      ]
    },
    {
      "cell_type": "code",
      "metadata": {
        "id": "cLU0B8lSb9ga"
      },
      "source": [
        "# Importing Libraries\n",
        "from pyod.models.iforest import IForest\n",
        "from pyod.utils.data import generate_data\n",
        "\n",
        "from pyod.utils.data import evaluate_print\n",
        "from pyod.utils.example import visualize\n",
        "\n",
        "anomaly_proportion = 0.001\n",
        "\n",
        "# Training IForest indicator\n",
        "clf_name = 'Anomaly detection - Isolation forest'\n",
        "clf = IForest(contamination = anomaly_proportion)\n",
        "\n",
        "X = debit_df[['count_5days', 'sum_5days']]\n",
        "clf.fit(X)\n",
        "\n",
        "debit_df['y_pred'] = clf.labels_ #binary labels (0=inlier, 1=outlier)\n",
        "debit_df['y_scores'] = clf.decision_scores_ # raw outlier scores. The bigger the number the greater the anomaly."
      ],
      "execution_count": null,
      "outputs": []
    },
    {
      "cell_type": "code",
      "metadata": {
        "colab": {
          "base_uri": "https://localhost:8080/",
          "height": 751
        },
        "id": "ltpH98r1hIvt",
        "outputId": "060c5b88-ac6e-4ee0-a3a4-3ca45ea4032e"
      },
      "source": [
        "xx , yy = np.meshgrid(np.linspace(0, 11, 200), np.linspace(0, 180000, 200))\n",
        "\n",
        "# decision function calculates the raw anomaly score for every point\n",
        "Z = clf.decision_function(np.c_[xx.ravel(), yy.ravel()])*-1\n",
        "Z = Z.reshape(xx.shape)\n",
        "\n",
        "\n",
        "threshold = (debit_df.loc[debit_df['y_pred'] == 1, 'y_scores'].min()*-1)/2 + (debit_df.loc[debit_df['y_pred'] == 0, 'y_scores'].max()*-1)/2\n",
        "\n",
        "\n",
        "subplot = plt.subplot(1, 1, 1)\n",
        "\n",
        "# fill blue colormap from minimum anomaly score to threshold value\n",
        "subplot.contourf(xx, yy, Z, levels = np.linspace(Z.min(), threshold, 10),cmap=plt.cm.Blues_r)\n",
        "\n",
        "# draw red contour line where anomaly score is equal to threshold\n",
        "a = subplot.contour(xx, yy, Z, levels=[threshold],linewidths=2, colors='red')\n",
        "\n",
        "# fill orange contour lines where range of anomaly score is from threshold to maximum anomaly score\n",
        "subplot.contourf(xx, yy, Z, levels=[threshold, Z.max()],colors='orange')\n",
        "\n",
        "msk = debit_df['y_pred'] == 0\n",
        "x = debit_df.loc[msk, ['count_5days', 'sum_5days']].values\n",
        "\n",
        "# scatter plot of inliers with white dots\n",
        "b = subplot.scatter(x[:, 0], x[:, 1], c='white',s=20, edgecolor='k') \n",
        "\n",
        "\n",
        "msk = debit_df['y_pred'] == 1\n",
        "x = debit_df.loc[msk, ['count_5days', 'sum_5days']].values\n",
        "\n",
        "# scatter plot of outliers with black dots\n",
        "c = subplot.scatter(x[:, 0], x[:, 1], c='black',s=20, edgecolor='r')\n",
        "subplot.axis('tight')\n",
        "\n",
        "\n",
        "\n",
        "subplot.legend(\n",
        "    [a.collections[0], b, c],\n",
        "    ['learned decision function', 'inliers', 'outliers'],\n",
        "    prop=matplotlib.font_manager.FontProperties(size=10),\n",
        "    loc='upper right')\n",
        "subplot.set_title(clf_name)\n",
        "subplot.set_xlim((0, 11))\n",
        "subplot.set_ylim((0, 180000))\n",
        "\n",
        "subplot.set_xlabel(\"5-day count of withdrawal transactions.\")\n",
        "subplot.set_ylabel(\"5-day sum of withdrawal transactions\")"
      ],
      "execution_count": null,
      "outputs": [
        {
          "output_type": "execute_result",
          "data": {
            "text/plain": [
              "Text(0, 0.5, '5-day sum of withdrawal transactions')"
            ]
          },
          "metadata": {
            "tags": []
          },
          "execution_count": 42
        },
        {
          "output_type": "display_data",
          "data": {
            "image/png": "[encoded data removed]",
            "text/plain": [
              "<Figure size 1008x864 with 1 Axes>"
            ]
          },
          "metadata": {
            "tags": [],
            "needs_background": "light"
          }
        }
      ]
    }
  ]
}